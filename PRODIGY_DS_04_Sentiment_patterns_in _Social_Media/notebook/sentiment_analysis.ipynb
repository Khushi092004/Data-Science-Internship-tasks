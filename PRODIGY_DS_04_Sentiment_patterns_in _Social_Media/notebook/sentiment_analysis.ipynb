{
 "cells": [
  {
   "cell_type": "code",
   "execution_count": 8,
   "id": "856b566b-d24c-4390-9999-07f44b876b8a",
   "metadata": {},
   "outputs": [
    {
     "name": "stderr",
     "output_type": "stream",
     "text": [
      "[nltk_data] Downloading package stopwords to\n",
      "[nltk_data]     C:\\Users\\rkhus\\AppData\\Roaming\\nltk_data...\n",
      "[nltk_data]   Package stopwords is already up-to-date!\n"
     ]
    }
   ],
   "source": [
    "# Importing necessary libraries\n",
    "import pandas as pd                # For data manipulation and analysis\n",
    "import numpy as np                 # For numerical computations\n",
    "import re                          # For regular expressions, used for text cleaning\n",
    "import nltk                        # Natural Language Toolkit for text preprocessing\n",
    "import seaborn as sns              # For data visualization\n",
    "import matplotlib.pyplot as plt    # For plotting\n",
    "from sklearn.model_selection import train_test_split  # To split the data into training and test sets\n",
    "from sklearn.feature_extraction.text import CountVectorizer  # To convert text data into numerical features\n",
    "from sklearn.naive_bayes import MultinomialNB  # Naive Bayes model for classification\n",
    "from sklearn.metrics import accuracy_score, classification_report, confusion_matrix  # For model evaluation\n",
    "\n",
    "# Download the stopwords (only needs to be run once)\n",
    "nltk.download('stopwords')\n",
    "from nltk.corpus import stopwords\n"
   ]
  },
  {
   "cell_type": "code",
   "execution_count": 10,
   "id": "ccc6dd91-fafc-47b9-af03-f90565110ff8",
   "metadata": {},
   "outputs": [
    {
     "name": "stdout",
     "output_type": "stream",
     "text": [
      "   user id   Platform Sentiment  \\\n",
      "0      352     Amazon   Neutral   \n",
      "1     8312  Microsoft  Negative   \n",
      "2     4371      CS-GO  Negative   \n",
      "3     4433     Google   Neutral   \n",
      "4     6273       FIFA  Negative   \n",
      "\n",
      "                                               text   \n",
      "0  BBC News - Amazon boss Jeff Bezos rejects clai...  \n",
      "1  @Microsoft Why do I pay for WORD when it funct...  \n",
      "2  CSGO matchmaking is so full of closet hacking,...  \n",
      "3  Now the President is slapping Americans in the...  \n",
      "4  Hi @EAHelp I’ve had Madeleine McCann in my cel...  \n",
      "user id      0\n",
      "Platform     0\n",
      "Sentiment    0\n",
      "text         0\n",
      "dtype: int64\n"
     ]
    }
   ],
   "source": [
    "# View the first few rows of the dataset to understand its structure\n",
    "print(df.head())\n",
    "\n",
    "# Check for missing values in the dataset\n",
    "print(df.isnull().sum())"
   ]
  },
  {
   "cell_type": "code",
   "execution_count": 11,
   "id": "ed06a59f-450e-4f2e-86f1-512c73b97193",
   "metadata": {},
   "outputs": [],
   "source": [
    "# Remove duplicate rows from the dataset\n",
    "df.drop_duplicates(inplace=True)"
   ]
  },
  {
   "cell_type": "code",
   "execution_count": 12,
   "id": "8871713e-77ca-46b0-b5a6-1ef6adffc9c4",
   "metadata": {},
   "outputs": [],
   "source": [
    "# Function to clean the text data\n",
    "def clean_text(text):\n",
    "    # Remove URLs\n",
    "    text = re.sub(r\"http\\S+|www\\S+|https\\S+\", '', text, flags=re.MULTILINE)\n",
    "    # Remove user mentions (@username) and hashtags (#hashtag)\n",
    "    text = re.sub(r'\\@\\w+|\\#','', text)\n",
    "    # Remove punctuation and numbers\n",
    "    text = re.sub(r'\\d+', '', text)\n",
    "    # Convert text to lowercase\n",
    "    text = text.lower()\n",
    "    # Remove stopwords (e.g., 'the', 'is', 'in')\n",
    "    stop_words = set(stopwords.words('english'))\n",
    "    text = ' '.join([word for word in text.split() if word not in stop_words])\n",
    "    return text"
   ]
  },
  {
   "cell_type": "code",
   "execution_count": 13,
   "id": "b39a8b5d-513d-43ba-8ef0-7c27ff6895e1",
   "metadata": {},
   "outputs": [
    {
     "name": "stdout",
     "output_type": "stream",
     "text": [
      "                                               text   \\\n",
      "0  BBC News - Amazon boss Jeff Bezos rejects clai...   \n",
      "1  @Microsoft Why do I pay for WORD when it funct...   \n",
      "2  CSGO matchmaking is so full of closet hacking,...   \n",
      "3  Now the President is slapping Americans in the...   \n",
      "4  Hi @EAHelp I’ve had Madeleine McCann in my cel...   \n",
      "\n",
      "                                        cleaned_text  \n",
      "0  bbc news - amazon boss jeff bezos rejects clai...  \n",
      "1            pay word functions poorly chromebook? 🙄  \n",
      "2  csgo matchmaking full closet hacking, truly aw...  \n",
      "3  president slapping americans face really commi...  \n",
      "4  hi i’ve madeleine mccann cellar past years lit...  \n"
     ]
    }
   ],
   "source": [
    "# Apply the text cleaning function to the correct column (replace 'text_column' with the actual column name)\n",
    "df['cleaned_text'] = df['text '].apply(lambda x: clean_text(x))\n",
    "\n",
    "# View the cleaned text data\n",
    "print(df[['text ', 'cleaned_text']].head())"
   ]
  },
  {
   "cell_type": "code",
   "execution_count": 14,
   "id": "62be13aa-417c-434b-bd51-f173e01a90ab",
   "metadata": {},
   "outputs": [],
   "source": [
    "# Convert text data into numerical features using CountVectorizer\n",
    "vectorizer = CountVectorizer(max_features=1000, stop_words='english')  # Limit to 1000 most frequent words\n",
    "X = vectorizer.fit_transform(df['cleaned_text']).toarray()  # Converting the cleaned text to feature vectors"
   ]
  },
  {
   "cell_type": "code",
   "execution_count": 15,
   "id": "9b67308d-f073-40a0-8acc-4ccc55fd7b13",
   "metadata": {},
   "outputs": [],
   "source": [
    "# Define target variable (y) and split data into training and testing sets\n",
    "y = df['Sentiment']  # Assuming the 'Sentiment' column has the labels for classification\n",
    "X_train, X_test, y_train, y_test = train_test_split(X, y, test_size=0.2, random_state=42)\n"
   ]
  },
  {
   "cell_type": "code",
   "execution_count": 16,
   "id": "a2efe1a2-a82c-47ee-a0bf-b256f2a5e319",
   "metadata": {},
   "outputs": [],
   "source": [
    "# Train the model (Multinomial Naive Bayes)\n",
    "model = MultinomialNB()\n",
    "model.fit(X_train, y_train)\n",
    "\n",
    "# Make predictions and evaluate the model\n",
    "y_pred = model.predict(X_test)\n"
   ]
  },
  {
   "cell_type": "code",
   "execution_count": 17,
   "id": "7aeeba20-d6cb-4412-ae77-aaa5be7045df",
   "metadata": {},
   "outputs": [
    {
     "name": "stdout",
     "output_type": "stream",
     "text": [
      "Accuracy: 48.50%\n"
     ]
    }
   ],
   "source": [
    "# Calculate accuracy\n",
    "accuracy = accuracy_score(y_test, y_pred)\n",
    "print(f\"Accuracy: {accuracy * 100:.2f}%\")"
   ]
  },
  {
   "cell_type": "code",
   "execution_count": 18,
   "id": "366d6f8f-e7e2-43f2-a37f-c65dab9ea5c3",
   "metadata": {},
   "outputs": [
    {
     "name": "stdout",
     "output_type": "stream",
     "text": [
      "Classification Report:\n",
      "               precision    recall  f1-score   support\n",
      "\n",
      "  Irrelevant       0.48      0.35      0.41        37\n",
      "    Negative       0.49      0.52      0.50        52\n",
      "     Neutral       0.56      0.46      0.50        59\n",
      "    Positive       0.43      0.58      0.49        52\n",
      "\n",
      "    accuracy                           0.48       200\n",
      "   macro avg       0.49      0.48      0.48       200\n",
      "weighted avg       0.49      0.48      0.48       200\n",
      "\n"
     ]
    }
   ],
   "source": [
    "# Generate a classification report (precision, recall, F1-score)\n",
    "print(\"Classification Report:\\n\", classification_report(y_test, y_pred))\n"
   ]
  },
  {
   "cell_type": "code",
   "execution_count": 19,
   "id": "e93b4300-9343-471e-abc8-f1e6a28ff90c",
   "metadata": {},
   "outputs": [
    {
     "name": "stdout",
     "output_type": "stream",
     "text": [
      "Confusion Matrix:\n",
      " [[13  9  3 12]\n",
      " [ 6 27  7 12]\n",
      " [ 7  9 27 16]\n",
      " [ 1 10 11 30]]\n"
     ]
    }
   ],
   "source": [
    "# Create a confusion matrix\n",
    "conf_matrix = confusion_matrix(y_test, y_pred)\n",
    "print(\"Confusion Matrix:\\n\", conf_matrix)"
   ]
  },
  {
   "cell_type": "code",
   "execution_count": 20,
   "id": "fbf0b5b4-6fcb-49b9-8ee6-fedfda4c2a23",
   "metadata": {},
   "outputs": [
    {
     "data": {
      "image/png": "[encoded data removed]",
      "text/plain": [
       "<Figure size 640x480 with 2 Axes>"
      ]
     },
     "metadata": {},
     "output_type": "display_data"
    }
   ],
   "source": [
    "# Visualize the confusion matrix using a heatmap\n",
    "sns.heatmap(conf_matrix, annot=True, fmt='d', cmap='Blues', xticklabels=model.classes_, yticklabels=model.classes_)\n",
    "plt.xlabel('Predicted')\n",
    "plt.ylabel('Actual')\n",
    "plt.title('Confusion Matrix')\n",
    "plt.show()"
   ]
  },
  {
   "cell_type": "code",
   "execution_count": null,
   "id": "87795ea9-2b4b-4472-9366-54946a193814",
   "metadata": {},
   "outputs": [],
   "source": []
  }
 ],
 "metadata": {
  "kernelspec": {
   "display_name": "Python 3 (ipykernel)",
   "language": "python",
   "name": "python3"
  },
  "language_info": {
   "codemirror_mode": {
    "name": "ipython",
    "version": 3
   },
   "file_extension": ".py",
   "mimetype": "text/x-python",
   "name": "python",
   "nbconvert_exporter": "python",
   "pygments_lexer": "ipython3",
   "version": "3.12.4"
  }
 },
 "nbformat": 4,
 "nbformat_minor": 5
}
